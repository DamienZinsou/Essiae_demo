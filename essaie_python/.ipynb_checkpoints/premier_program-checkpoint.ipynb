{
 "cells": [
  {
   "cell_type": "code",
   "execution_count": 5,
   "id": "74a7e186-8735-4ba5-bff8-5aefe1b623b9",
   "metadata": {},
   "outputs": [
    {
     "name": "stdin",
     "output_type": "stream",
     "text": [
      " donner ton nom :  damien\n",
      "donner ton age :  27\n"
     ]
    },
    {
     "name": "stdout",
     "output_type": "stream",
     "text": [
      "Bonjour damien, vous avez 27 ans!\n"
     ]
    }
   ],
   "source": [
    "nom = input(\" donner ton nom : \")\n",
    "age = int(input(\"donner ton age : \"))\n",
    "print(f\"Bonjour {nom}, vous avez {age} ans!\")\n"
   ]
  },
  {
   "cell_type": "code",
   "execution_count": 7,
   "id": "d5baa886-d4ce-4f76-8a52-92cbddbf1cfe",
   "metadata": {},
   "outputs": [
    {
     "name": "stdin",
     "output_type": "stream",
     "text": [
      " donner ton nom :  damien\n",
      "donner ton age :  45\n"
     ]
    },
    {
     "name": "stdout",
     "output_type": "stream",
     "text": [
      "Bonjour {nom}, vous avez {age} ans!\n"
     ]
    }
   ],
   "source": [
    "nom = input(\" donner ton nom : \")\n",
    "age = int(input(\"donner ton age : \"))\n",
    "print(\"Bonjour {nom}, vous avez {age} ans!\")\n"
   ]
  },
  {
   "cell_type": "code",
   "execution_count": null,
   "id": "79099e02-b5af-4f3b-8840-68688a268357",
   "metadata": {},
   "outputs": [],
   "source": []
  }
 ],
 "metadata": {
  "kernelspec": {
   "display_name": "Python 3 (ipykernel)",
   "language": "python",
   "name": "python3"
  },
  "language_info": {
   "codemirror_mode": {
    "name": "ipython",
    "version": 3
   },
   "file_extension": ".py",
   "mimetype": "text/x-python",
   "name": "python",
   "nbconvert_exporter": "python",
   "pygments_lexer": "ipython3",
   "version": "3.12.4"
  }
 },
 "nbformat": 4,
 "nbformat_minor": 5
}
