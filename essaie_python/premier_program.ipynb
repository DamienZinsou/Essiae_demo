{
 "cells": [
  {
   "cell_type": "code",
   "execution_count": 5,
   "id": "74a7e186-8735-4ba5-bff8-5aefe1b623b9",
   "metadata": {},
   "outputs": [
    {
     "name": "stdin",
     "output_type": "stream",
     "text": [
      " donner ton nom :  damien\n",
      "donner ton age :  27\n"
     ]
    },
    {
     "name": "stdout",
     "output_type": "stream",
     "text": [
      "Bonjour damien, vous avez 27 ans!\n"
     ]
    }
   ],
   "source": [
    "nom = input(\" donner ton nom : \")\n",
    "age = int(input(\"donner ton age : \"))\n",
    "print(f\"Bonjour {nom}, vous avez {age} ans!\")\n"
   ]
  },
  {
   "cell_type": "code",
   "execution_count": 7,
   "id": "d5baa886-d4ce-4f76-8a52-92cbddbf1cfe",
   "metadata": {},
   "outputs": [
    {
     "name": "stdin",
     "output_type": "stream",
     "text": [
      " donner ton nom :  damien\n",
      "donner ton age :  45\n"
     ]
    },
    {
     "name": "stdout",
     "output_type": "stream",
     "text": [
      "Bonjour {nom}, vous avez {age} ans!\n"
     ]
    }
   ],
   "source": [
    "nom = input(\" donner ton nom : \")\n",
    "age = int(input(\"donner ton age : \"))\n",
    "print(\"Bonjour {nom}, vous avez {age} ans!\")\n"
   ]
  },
  {
   "cell_type": "code",
   "execution_count": 9,
   "id": "79099e02-b5af-4f3b-8840-68688a268357",
   "metadata": {},
   "outputs": [
    {
     "name": "stdout",
     "output_type": "stream",
     "text": [
      "Defaulting to user installation because normal site-packages is not writeableNote: you may need to restart the kernel to use updated packages.\n",
      "\n",
      "Collecting py\n",
      "  Downloading py-1.11.0-py2.py3-none-any.whl.metadata (2.8 kB)\n",
      "Downloading py-1.11.0-py2.py3-none-any.whl (98 kB)\n",
      "   ---------------------------------------- 0.0/98.7 kB ? eta -:--:--\n",
      "   ---------------------------------------- 0.0/98.7 kB ? eta -:--:--\n",
      "   ---- ----------------------------------- 10.2/98.7 kB ? eta -:--:--\n",
      "   ---- ----------------------------------- 10.2/98.7 kB ? eta -:--:--\n",
      "   ---- ----------------------------------- 10.2/98.7 kB ? eta -:--:--\n",
      "   ------------ --------------------------- 30.7/98.7 kB 187.9 kB/s eta 0:00:01\n",
      "   ---------------- ----------------------- 41.0/98.7 kB 196.9 kB/s eta 0:00:01\n",
      "   ------------------------------------- -- 92.2/98.7 kB 350.1 kB/s eta 0:00:01\n",
      "   ---------------------------------------- 98.7/98.7 kB 332.6 kB/s eta 0:00:00\n",
      "Installing collected packages: py\n",
      "Successfully installed py-1.11.0\n"
     ]
    }
   ],
   "source": [
    "pip install py"
   ]
  },
  {
   "cell_type": "code",
   "execution_count": null,
   "id": "0286a12c-b4ad-4e62-80df-377834e71084",
   "metadata": {},
   "outputs": [],
   "source": []
  }
 ],
 "metadata": {
  "kernelspec": {
   "display_name": "Python 3 (ipykernel)",
   "language": "python",
   "name": "python3"
  },
  "language_info": {
   "codemirror_mode": {
    "name": "ipython",
    "version": 3
   },
   "file_extension": ".py",
   "mimetype": "text/x-python",
   "name": "python",
   "nbconvert_exporter": "python",
   "pygments_lexer": "ipython3",
   "version": "3.12.4"
  }
 },
 "nbformat": 4,
 "nbformat_minor": 5
}
